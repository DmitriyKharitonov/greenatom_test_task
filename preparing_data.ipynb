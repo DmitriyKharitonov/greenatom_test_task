{
 "cells": [
  {
   "cell_type": "code",
   "execution_count": 1,
   "id": "a2ba4e2c",
   "metadata": {},
   "outputs": [],
   "source": [
    "import csv\n",
    "import pandas as pd\n",
    "import os"
   ]
  },
  {
   "cell_type": "code",
   "execution_count": 36,
   "id": "eed3e253",
   "metadata": {},
   "outputs": [],
   "source": [
    "full_df = pd.DataFrame.from_dict({'text' : ['test'], 'rating' : ['15']})\n",
    "\n",
    "for file_name in os.listdir('./test/pos'):\n",
    "    tmp = pd.read_fwf('./test/pos/' + file_name, header = None, widths = [100000], names = ['text'])\n",
    "    tmp['rating'] = file_name.split('_')[1].split('.')[0]\n",
    "    full_df = pd.concat([full_df, tmp])\n",
    "    \n",
    "for file_name in os.listdir('./test/neg'):\n",
    "    tmp = pd.read_fwf('./test/neg/' + file_name, header = None, widths = [100000], names = ['text'])\n",
    "    tmp['rating'] = file_name.split('_')[1].split('.')[0]\n",
    "    full_df = pd.concat([full_df, tmp])\n",
    "    \n",
    "full_df.to_csv('full_df_test.csv')"
   ]
  },
  {
   "cell_type": "code",
   "execution_count": 45,
   "id": "227eeed3",
   "metadata": {},
   "outputs": [
    {
     "data": {
      "text/html": [
       "<div>\n",
       "<style scoped>\n",
       "    .dataframe tbody tr th:only-of-type {\n",
       "        vertical-align: middle;\n",
       "    }\n",
       "\n",
       "    .dataframe tbody tr th {\n",
       "        vertical-align: top;\n",
       "    }\n",
       "\n",
       "    .dataframe thead th {\n",
       "        text-align: right;\n",
       "    }\n",
       "</style>\n",
       "<table border=\"1\" class=\"dataframe\">\n",
       "  <thead>\n",
       "    <tr style=\"text-align: right;\">\n",
       "      <th></th>\n",
       "      <th>test</th>\n",
       "      <th>rating</th>\n",
       "    </tr>\n",
       "  </thead>\n",
       "  <tbody>\n",
       "    <tr>\n",
       "      <th>0</th>\n",
       "      <td>Bromwell High is a cartoon comedy. It ran at t...</td>\n",
       "      <td>9</td>\n",
       "    </tr>\n",
       "    <tr>\n",
       "      <th>1</th>\n",
       "      <td>Homelessness (or Houselessness as George Carli...</td>\n",
       "      <td>8</td>\n",
       "    </tr>\n",
       "    <tr>\n",
       "      <th>2</th>\n",
       "      <td>Brilliant over-acting by Lesley Ann Warren. Be...</td>\n",
       "      <td>10</td>\n",
       "    </tr>\n",
       "    <tr>\n",
       "      <th>3</th>\n",
       "      <td>This is easily the most underrated film inn th...</td>\n",
       "      <td>7</td>\n",
       "    </tr>\n",
       "    <tr>\n",
       "      <th>4</th>\n",
       "      <td>This is not the typical Mel Brooks film. It wa...</td>\n",
       "      <td>8</td>\n",
       "    </tr>\n",
       "    <tr>\n",
       "      <th>...</th>\n",
       "      <td>...</td>\n",
       "      <td>...</td>\n",
       "    </tr>\n",
       "    <tr>\n",
       "      <th>24995</th>\n",
       "      <td>Towards the end of the movie, I felt it was to...</td>\n",
       "      <td>4</td>\n",
       "    </tr>\n",
       "    <tr>\n",
       "      <th>24996</th>\n",
       "      <td>This is the kind of movie that my enemies cont...</td>\n",
       "      <td>3</td>\n",
       "    </tr>\n",
       "    <tr>\n",
       "      <th>24997</th>\n",
       "      <td>I saw 'Descent' last night at the Stockholm Fi...</td>\n",
       "      <td>3</td>\n",
       "    </tr>\n",
       "    <tr>\n",
       "      <th>24998</th>\n",
       "      <td>Some films that you pick up for a pound turn o...</td>\n",
       "      <td>1</td>\n",
       "    </tr>\n",
       "    <tr>\n",
       "      <th>24999</th>\n",
       "      <td>This is one of the dumbest films, I've ever se...</td>\n",
       "      <td>1</td>\n",
       "    </tr>\n",
       "  </tbody>\n",
       "</table>\n",
       "<p>25000 rows × 2 columns</p>\n",
       "</div>"
      ],
      "text/plain": [
       "                                                    test  rating\n",
       "0      Bromwell High is a cartoon comedy. It ran at t...       9\n",
       "1      Homelessness (or Houselessness as George Carli...       8\n",
       "2      Brilliant over-acting by Lesley Ann Warren. Be...      10\n",
       "3      This is easily the most underrated film inn th...       7\n",
       "4      This is not the typical Mel Brooks film. It wa...       8\n",
       "...                                                  ...     ...\n",
       "24995  Towards the end of the movie, I felt it was to...       4\n",
       "24996  This is the kind of movie that my enemies cont...       3\n",
       "24997  I saw 'Descent' last night at the Stockholm Fi...       3\n",
       "24998  Some films that you pick up for a pound turn o...       1\n",
       "24999  This is one of the dumbest films, I've ever se...       1\n",
       "\n",
       "[25000 rows x 2 columns]"
      ]
     },
     "execution_count": 45,
     "metadata": {},
     "output_type": "execute_result"
    }
   ],
   "source": [
    "df = pd.read_csv('full_df_train.csv', skiprows = 1).drop(columns = ['0']).rename(columns = {'15' : 'rating'})\n",
    "df"
   ]
  },
  {
   "cell_type": "code",
   "execution_count": null,
   "id": "a117fb27",
   "metadata": {},
   "outputs": [],
   "source": []
  }
 ],
 "metadata": {
  "kernelspec": {
   "display_name": "Python 3 (ipykernel)",
   "language": "python",
   "name": "python3"
  },
  "language_info": {
   "codemirror_mode": {
    "name": "ipython",
    "version": 3
   },
   "file_extension": ".py",
   "mimetype": "text/x-python",
   "name": "python",
   "nbconvert_exporter": "python",
   "pygments_lexer": "ipython3",
   "version": "3.9.6"
  }
 },
 "nbformat": 4,
 "nbformat_minor": 5
}
